{
 "cells": [
  {
   "cell_type": "code",
   "execution_count": 1,
   "metadata": {},
   "outputs": [
    {
     "name": "stdout",
     "output_type": "stream",
     "text": [
      "Saving QA tiles to data/togo.mbtiles\n",
      "   100%     27.7 MiB      16.3 MiB/s            0:00:00 ETA    \n"
     ]
    }
   ],
   "source": [
    "!label-maker download"
   ]
  },
  {
   "cell_type": "code",
   "execution_count": 2,
   "metadata": {},
   "outputs": [
    {
     "name": "stdout",
     "output_type": "stream",
     "text": [
      "Retiling QA Tiles to zoom level 12 (takes a bit)\n",
      "177975 features, 10503811 bytes of geometry, 8 bytes of separate metadata, 2700215 bytes of string pool\n",
      "  99.9%  12/2060/1978  \n",
      "Determining labels for each tile\n",
      "---\n",
      "Roads: 11 tiles\n",
      "Buildings: 9 tiles\n",
      "Total tiles: 12\n",
      "Writing out labels to data/labels.npz\n"
     ]
    }
   ],
   "source": [
    "!label-maker labels"
   ]
  },
  {
   "cell_type": "code",
   "execution_count": 3,
   "metadata": {},
   "outputs": [
    {
     "name": "stdout",
     "output_type": "stream",
     "text": [
      "Writing example images to data/examples\n",
      "Downloading at most 10 tiles for class Roads\n",
      "Downloading at most 10 tiles for class Buildings\n"
     ]
    }
   ],
   "source": [
    "!label-maker preview -n 10"
   ]
  },
  {
   "cell_type": "code",
   "execution_count": 4,
   "metadata": {},
   "outputs": [
    {
     "name": "stdout",
     "output_type": "stream",
     "text": [
      "Downloading 11 tiles to data/tiles\r\n"
     ]
    }
   ],
   "source": [
    "!label-maker images"
   ]
  },
  {
   "cell_type": "code",
   "execution_count": 5,
   "metadata": {},
   "outputs": [
    {
     "name": "stdout",
     "output_type": "stream",
     "text": [
      "Saving packaged file to data/data.npz\r\n"
     ]
    }
   ],
   "source": [
    "!label-maker package"
   ]
  },
  {
   "cell_type": "code",
   "execution_count": null,
   "metadata": {},
   "outputs": [],
   "source": []
  }
 ],
 "metadata": {
  "kernelspec": {
   "display_name": "Python 3",
   "language": "python",
   "name": "python3"
  },
  "language_info": {
   "codemirror_mode": {
    "name": "ipython",
    "version": 3
   },
   "file_extension": ".py",
   "mimetype": "text/x-python",
   "name": "python",
   "nbconvert_exporter": "python",
   "pygments_lexer": "ipython3",
   "version": "3.6.7"
  }
 },
 "nbformat": 4,
 "nbformat_minor": 2
}
