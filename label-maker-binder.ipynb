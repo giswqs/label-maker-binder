{
 "cells": [
  {
   "cell_type": "markdown",
   "metadata": {},
   "source": [
    "# Using label-maker in an interactive notebook on the cloud\n",
    "\n",
    "[![Binder](https://mybinder.org/badge.svg)](https://mybinder.org/v2/gh/giswqs/label-maker-binder/master)\n",
    "\n",
    "## Usage\n",
    "\n",
    "* Launch [Binder](https://mybinder.org/v2/gh/giswqs/label-maker-binder/master) \n",
    "* A Jupyter Notebook will open in your browser\n",
    "* Open **config.json** and replace **ACCESS_TOKEN** with your [mapbox access token](https://www.mapbox.com/account/access-tokens). You can also change the content of **config.json** (e.g., *country, bounding_box*) if needed.\n",
    "* Save changes to **config.json** (Menu - File - Save)\n",
    "* Open **label-maker-binder.ipynb** and start running cells "
   ]
  },
  {
   "cell_type": "markdown",
   "metadata": {},
   "source": [
    "## Running label-maker"
   ]
  },
  {
   "cell_type": "code",
   "execution_count": 1,
   "metadata": {},
   "outputs": [
    {
     "name": "stdout",
     "output_type": "stream",
     "text": [
      "Saving QA tiles to data/togo.mbtiles\n",
      "   100%     27.7 MiB      16.7 MiB/s            0:00:00 ETA    \n"
     ]
    }
   ],
   "source": [
    "!label-maker download"
   ]
  },
  {
   "cell_type": "code",
   "execution_count": 2,
   "metadata": {},
   "outputs": [
    {
     "name": "stdout",
     "output_type": "stream",
     "text": [
      "Retiling QA Tiles to zoom level 12 (takes a bit)\n",
      "177975 features, 10503811 bytes of geometry, 8 bytes of separate metadata, 2700215 bytes of string pool\n",
      "  99.9%  12/2060/1978  \n",
      "Determining labels for each tile\n",
      "---\n",
      "Roads: 11 tiles\n",
      "Buildings: 9 tiles\n",
      "Total tiles: 12\n",
      "Writing out labels to data/labels.npz\n"
     ]
    }
   ],
   "source": [
    "!label-maker labels"
   ]
  },
  {
   "cell_type": "code",
   "execution_count": 3,
   "metadata": {},
   "outputs": [
    {
     "name": "stdout",
     "output_type": "stream",
     "text": [
      "Writing example images to data/examples\n",
      "Downloading at most 10 tiles for class Roads\n",
      "Downloading at most 10 tiles for class Buildings\n"
     ]
    }
   ],
   "source": [
    "!label-maker preview -n 10"
   ]
  },
  {
   "cell_type": "code",
   "execution_count": 4,
   "metadata": {},
   "outputs": [
    {
     "name": "stdout",
     "output_type": "stream",
     "text": [
      "Downloading 11 tiles to data/tiles\r\n"
     ]
    }
   ],
   "source": [
    "!label-maker images"
   ]
  },
  {
   "cell_type": "code",
   "execution_count": 5,
   "metadata": {},
   "outputs": [
    {
     "name": "stdout",
     "output_type": "stream",
     "text": [
      "Saving packaged file to data/data.npz\r\n"
     ]
    }
   ],
   "source": [
    "!label-maker package"
   ]
  },
  {
   "cell_type": "markdown",
   "metadata": {},
   "source": [
    "##  Creating a zip file from label-maker data\n",
    "\n",
    "Here we use the **[pygis](https://github.com/giswqs/pygis)** Python package to create a zip file for download. The **pygis** Python package can be installed using the following command:\n",
    "\n",
    "`pip install pygis`"
   ]
  },
  {
   "cell_type": "code",
   "execution_count": 6,
   "metadata": {},
   "outputs": [],
   "source": [
    "import pygis"
   ]
  },
  {
   "cell_type": "code",
   "execution_count": 7,
   "metadata": {},
   "outputs": [
    {
     "name": "stdout",
     "output_type": "stream",
     "text": [
      "Following files will be zipped:\n",
      "data/data.npz\n",
      "data/togo.mbtiles\n",
      "data/togo-z12.mbtiles\n",
      "data/classification.geojson\n",
      "data/togo.geojson\n",
      "data/labels.npz\n",
      "data/tiles/2063-1977-12.jpg\n",
      "data/tiles/2061-1978-12.jpg\n",
      "data/tiles/2062-1978-12.jpg\n",
      "data/tiles/2060-1976-12.jpg\n",
      "data/tiles/2060-1978-12.jpg\n",
      "data/tiles/2062-1976-12.jpg\n",
      "data/tiles/2061-1976-12.jpg\n",
      "data/tiles/2063-1976-12.jpg\n",
      "data/tiles/2060-1977-12.jpg\n",
      "data/tiles/2062-1977-12.jpg\n",
      "data/tiles/2061-1977-12.jpg\n",
      "data/examples/Roads/2063-1977-12.jpg\n",
      "data/examples/Roads/2061-1978-12.jpg\n",
      "data/examples/Roads/2062-1978-12.jpg\n",
      "data/examples/Roads/2060-1976-12.jpg\n",
      "data/examples/Roads/2060-1978-12.jpg\n",
      "data/examples/Roads/2062-1976-12.jpg\n",
      "data/examples/Roads/2061-1976-12.jpg\n",
      "data/examples/Roads/2063-1976-12.jpg\n",
      "data/examples/Roads/2060-1977-12.jpg\n",
      "data/examples/Roads/2062-1977-12.jpg\n",
      "data/examples/Buildings/2063-1977-12.jpg\n",
      "data/examples/Buildings/2061-1978-12.jpg\n",
      "data/examples/Buildings/2062-1978-12.jpg\n",
      "data/examples/Buildings/2060-1976-12.jpg\n",
      "data/examples/Buildings/2062-1976-12.jpg\n",
      "data/examples/Buildings/2061-1976-12.jpg\n",
      "data/examples/Buildings/2060-1977-12.jpg\n",
      "data/examples/Buildings/2062-1977-12.jpg\n",
      "data/examples/Buildings/2061-1977-12.jpg\n",
      "All files zipped successfully!\n"
     ]
    }
   ],
   "source": [
    "pygis.write_zipfile('data', 'data.zip')"
   ]
  },
  {
   "cell_type": "code",
   "execution_count": 8,
   "metadata": {},
   "outputs": [
    {
     "name": "stdout",
     "output_type": "stream",
     "text": [
      "data/data.npz\n",
      "\tModified:\t2018-11-10 02:59:50\n",
      "\tSystem:\t\t3(0 = Windows, 3 = Unix)\n",
      "\tZIP version:\t20\n",
      "\tCompressed:\t2163483 bytes\n",
      "\tUncompressed:\t2163483 bytes\n",
      "data/togo.mbtiles\n",
      "\tModified:\t2018-11-10 02:57:58\n",
      "\tSystem:\t\t3(0 = Windows, 3 = Unix)\n",
      "\tZIP version:\t20\n",
      "\tCompressed:\t29552640 bytes\n",
      "\tUncompressed:\t29552640 bytes\n",
      "data/togo-z12.mbtiles\n",
      "\tModified:\t2018-11-10 02:59:20\n",
      "\tSystem:\t\t3(0 = Windows, 3 = Unix)\n",
      "\tZIP version:\t20\n",
      "\tCompressed:\t3497984 bytes\n",
      "\tUncompressed:\t3497984 bytes\n",
      "data/classification.geojson\n",
      "\tModified:\t2018-11-10 02:59:42\n",
      "\tSystem:\t\t3(0 = Windows, 3 = Unix)\n",
      "\tZIP version:\t20\n",
      "\tCompressed:\t3294 bytes\n",
      "\tUncompressed:\t3294 bytes\n",
      "data/togo.geojson\n",
      "\tModified:\t2018-11-10 02:59:00\n",
      "\tSystem:\t\t3(0 = Windows, 3 = Unix)\n",
      "\tZIP version:\t20\n",
      "\tCompressed:\t66298694 bytes\n",
      "\tUncompressed:\t66298694 bytes\n",
      "data/labels.npz\n",
      "\tModified:\t2018-11-10 02:59:42\n",
      "\tSystem:\t\t3(0 = Windows, 3 = Unix)\n",
      "\tZIP version:\t20\n",
      "\tCompressed:\t2566 bytes\n",
      "\tUncompressed:\t2566 bytes\n",
      "data/tiles/2063-1977-12.jpg\n",
      "\tModified:\t2018-11-10 02:59:48\n",
      "\tSystem:\t\t3(0 = Windows, 3 = Unix)\n",
      "\tZIP version:\t20\n",
      "\tCompressed:\t13435 bytes\n",
      "\tUncompressed:\t13435 bytes\n",
      "data/tiles/2061-1978-12.jpg\n",
      "\tModified:\t2018-11-10 02:59:48\n",
      "\tSystem:\t\t3(0 = Windows, 3 = Unix)\n",
      "\tZIP version:\t20\n",
      "\tCompressed:\t10766 bytes\n",
      "\tUncompressed:\t10766 bytes\n",
      "data/tiles/2062-1978-12.jpg\n",
      "\tModified:\t2018-11-10 02:59:48\n",
      "\tSystem:\t\t3(0 = Windows, 3 = Unix)\n",
      "\tZIP version:\t20\n",
      "\tCompressed:\t4564 bytes\n",
      "\tUncompressed:\t4564 bytes\n",
      "data/tiles/2060-1976-12.jpg\n",
      "\tModified:\t2018-11-10 02:59:48\n",
      "\tSystem:\t\t3(0 = Windows, 3 = Unix)\n",
      "\tZIP version:\t20\n",
      "\tCompressed:\t16123 bytes\n",
      "\tUncompressed:\t16123 bytes\n",
      "data/tiles/2060-1978-12.jpg\n",
      "\tModified:\t2018-11-10 02:59:48\n",
      "\tSystem:\t\t3(0 = Windows, 3 = Unix)\n",
      "\tZIP version:\t20\n",
      "\tCompressed:\t17545 bytes\n",
      "\tUncompressed:\t17545 bytes\n",
      "data/tiles/2062-1976-12.jpg\n",
      "\tModified:\t2018-11-10 02:59:48\n",
      "\tSystem:\t\t3(0 = Windows, 3 = Unix)\n",
      "\tZIP version:\t20\n",
      "\tCompressed:\t14706 bytes\n",
      "\tUncompressed:\t14706 bytes\n",
      "data/tiles/2061-1976-12.jpg\n",
      "\tModified:\t2018-11-10 02:59:48\n",
      "\tSystem:\t\t3(0 = Windows, 3 = Unix)\n",
      "\tZIP version:\t20\n",
      "\tCompressed:\t15805 bytes\n",
      "\tUncompressed:\t15805 bytes\n",
      "data/tiles/2063-1976-12.jpg\n",
      "\tModified:\t2018-11-10 02:59:48\n",
      "\tSystem:\t\t3(0 = Windows, 3 = Unix)\n",
      "\tZIP version:\t20\n",
      "\tCompressed:\t16577 bytes\n",
      "\tUncompressed:\t16577 bytes\n",
      "data/tiles/2060-1977-12.jpg\n",
      "\tModified:\t2018-11-10 02:59:48\n",
      "\tSystem:\t\t3(0 = Windows, 3 = Unix)\n",
      "\tZIP version:\t20\n",
      "\tCompressed:\t17719 bytes\n",
      "\tUncompressed:\t17719 bytes\n",
      "data/tiles/2062-1977-12.jpg\n",
      "\tModified:\t2018-11-10 02:59:48\n",
      "\tSystem:\t\t3(0 = Windows, 3 = Unix)\n",
      "\tZIP version:\t20\n",
      "\tCompressed:\t17307 bytes\n",
      "\tUncompressed:\t17307 bytes\n",
      "data/tiles/2061-1977-12.jpg\n",
      "\tModified:\t2018-11-10 02:59:48\n",
      "\tSystem:\t\t3(0 = Windows, 3 = Unix)\n",
      "\tZIP version:\t20\n",
      "\tCompressed:\t17248 bytes\n",
      "\tUncompressed:\t17248 bytes\n",
      "data/examples/Roads/2063-1977-12.jpg\n",
      "\tModified:\t2018-11-10 02:59:44\n",
      "\tSystem:\t\t3(0 = Windows, 3 = Unix)\n",
      "\tZIP version:\t20\n",
      "\tCompressed:\t13435 bytes\n",
      "\tUncompressed:\t13435 bytes\n",
      "data/examples/Roads/2061-1978-12.jpg\n",
      "\tModified:\t2018-11-10 02:59:44\n",
      "\tSystem:\t\t3(0 = Windows, 3 = Unix)\n",
      "\tZIP version:\t20\n",
      "\tCompressed:\t10766 bytes\n",
      "\tUncompressed:\t10766 bytes\n",
      "data/examples/Roads/2062-1978-12.jpg\n",
      "\tModified:\t2018-11-10 02:59:44\n",
      "\tSystem:\t\t3(0 = Windows, 3 = Unix)\n",
      "\tZIP version:\t20\n",
      "\tCompressed:\t4564 bytes\n",
      "\tUncompressed:\t4564 bytes\n",
      "data/examples/Roads/2060-1976-12.jpg\n",
      "\tModified:\t2018-11-10 02:59:44\n",
      "\tSystem:\t\t3(0 = Windows, 3 = Unix)\n",
      "\tZIP version:\t20\n",
      "\tCompressed:\t16123 bytes\n",
      "\tUncompressed:\t16123 bytes\n",
      "data/examples/Roads/2060-1978-12.jpg\n",
      "\tModified:\t2018-11-10 02:59:44\n",
      "\tSystem:\t\t3(0 = Windows, 3 = Unix)\n",
      "\tZIP version:\t20\n",
      "\tCompressed:\t17545 bytes\n",
      "\tUncompressed:\t17545 bytes\n",
      "data/examples/Roads/2062-1976-12.jpg\n",
      "\tModified:\t2018-11-10 02:59:44\n",
      "\tSystem:\t\t3(0 = Windows, 3 = Unix)\n",
      "\tZIP version:\t20\n",
      "\tCompressed:\t14706 bytes\n",
      "\tUncompressed:\t14706 bytes\n",
      "data/examples/Roads/2061-1976-12.jpg\n",
      "\tModified:\t2018-11-10 02:59:44\n",
      "\tSystem:\t\t3(0 = Windows, 3 = Unix)\n",
      "\tZIP version:\t20\n",
      "\tCompressed:\t15805 bytes\n",
      "\tUncompressed:\t15805 bytes\n",
      "data/examples/Roads/2063-1976-12.jpg\n",
      "\tModified:\t2018-11-10 02:59:44\n",
      "\tSystem:\t\t3(0 = Windows, 3 = Unix)\n",
      "\tZIP version:\t20\n",
      "\tCompressed:\t16577 bytes\n",
      "\tUncompressed:\t16577 bytes\n",
      "data/examples/Roads/2060-1977-12.jpg\n",
      "\tModified:\t2018-11-10 02:59:44\n",
      "\tSystem:\t\t3(0 = Windows, 3 = Unix)\n",
      "\tZIP version:\t20\n",
      "\tCompressed:\t17719 bytes\n",
      "\tUncompressed:\t17719 bytes\n",
      "data/examples/Roads/2062-1977-12.jpg\n",
      "\tModified:\t2018-11-10 02:59:44\n",
      "\tSystem:\t\t3(0 = Windows, 3 = Unix)\n",
      "\tZIP version:\t20\n",
      "\tCompressed:\t17307 bytes\n",
      "\tUncompressed:\t17307 bytes\n",
      "data/examples/Buildings/2063-1977-12.jpg\n",
      "\tModified:\t2018-11-10 02:59:44\n",
      "\tSystem:\t\t3(0 = Windows, 3 = Unix)\n",
      "\tZIP version:\t20\n",
      "\tCompressed:\t13435 bytes\n",
      "\tUncompressed:\t13435 bytes\n",
      "data/examples/Buildings/2061-1978-12.jpg\n",
      "\tModified:\t2018-11-10 02:59:44\n",
      "\tSystem:\t\t3(0 = Windows, 3 = Unix)\n",
      "\tZIP version:\t20\n",
      "\tCompressed:\t10766 bytes\n",
      "\tUncompressed:\t10766 bytes\n",
      "data/examples/Buildings/2062-1978-12.jpg\n",
      "\tModified:\t2018-11-10 02:59:44\n",
      "\tSystem:\t\t3(0 = Windows, 3 = Unix)\n",
      "\tZIP version:\t20\n",
      "\tCompressed:\t4564 bytes\n",
      "\tUncompressed:\t4564 bytes\n",
      "data/examples/Buildings/2060-1976-12.jpg\n",
      "\tModified:\t2018-11-10 02:59:44\n",
      "\tSystem:\t\t3(0 = Windows, 3 = Unix)\n",
      "\tZIP version:\t20\n",
      "\tCompressed:\t16123 bytes\n",
      "\tUncompressed:\t16123 bytes\n",
      "data/examples/Buildings/2062-1976-12.jpg\n",
      "\tModified:\t2018-11-10 02:59:44\n",
      "\tSystem:\t\t3(0 = Windows, 3 = Unix)\n",
      "\tZIP version:\t20\n",
      "\tCompressed:\t14706 bytes\n",
      "\tUncompressed:\t14706 bytes\n",
      "data/examples/Buildings/2061-1976-12.jpg\n",
      "\tModified:\t2018-11-10 02:59:44\n",
      "\tSystem:\t\t3(0 = Windows, 3 = Unix)\n",
      "\tZIP version:\t20\n",
      "\tCompressed:\t15805 bytes\n",
      "\tUncompressed:\t15805 bytes\n",
      "data/examples/Buildings/2060-1977-12.jpg\n",
      "\tModified:\t2018-11-10 02:59:44\n",
      "\tSystem:\t\t3(0 = Windows, 3 = Unix)\n",
      "\tZIP version:\t20\n",
      "\tCompressed:\t17719 bytes\n",
      "\tUncompressed:\t17719 bytes\n",
      "data/examples/Buildings/2062-1977-12.jpg\n",
      "\tModified:\t2018-11-10 02:59:46\n",
      "\tSystem:\t\t3(0 = Windows, 3 = Unix)\n",
      "\tZIP version:\t20\n",
      "\tCompressed:\t17307 bytes\n",
      "\tUncompressed:\t17307 bytes\n",
      "data/examples/Buildings/2061-1977-12.jpg\n",
      "\tModified:\t2018-11-10 02:59:46\n",
      "\tSystem:\t\t3(0 = Windows, 3 = Unix)\n",
      "\tZIP version:\t20\n",
      "\tCompressed:\t17248 bytes\n",
      "\tUncompressed:\t17248 bytes\n"
     ]
    }
   ],
   "source": [
    "pygis.read_zipfile('data.zip')"
   ]
  },
  {
   "cell_type": "markdown",
   "metadata": {},
   "source": [
    "You can now go to the binder root directory to download `data.zip` to your local computer for deep learning."
   ]
  }
 ],
 "metadata": {
  "kernelspec": {
   "display_name": "Python 3",
   "language": "python",
   "name": "python3"
  },
  "language_info": {
   "codemirror_mode": {
    "name": "ipython",
    "version": 3
   },
   "file_extension": ".py",
   "mimetype": "text/x-python",
   "name": "python",
   "nbconvert_exporter": "python",
   "pygments_lexer": "ipython3",
   "version": "3.6.7"
  }
 },
 "nbformat": 4,
 "nbformat_minor": 2
}
